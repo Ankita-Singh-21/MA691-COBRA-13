{
  "nbformat": 4,
  "nbformat_minor": 0,
  "metadata": {
    "colab": {
      "name": "haberman.ipynb",
      "provenance": [],
      "collapsed_sections": [],
      "mount_file_id": "1WdZ5ct-8M3u6XResi4mnh1tcLIeq-6DQ",
      "authorship_tag": "ABX9TyMAYC/mz34nhx8rJqmayn4u",
      "include_colab_link": true
    },
    "kernelspec": {
      "name": "python3",
      "display_name": "Python 3"
    },
    "language_info": {
      "name": "python"
    }
  },
  "cells": [
    {
      "cell_type": "markdown",
      "metadata": {
        "id": "view-in-github",
        "colab_type": "text"
      },
      "source": [
        "<a href=\"https://colab.research.google.com/github/Ankita-Singh-21/MA691-COBRA-13/blob/main/haberman.ipynb\" target=\"_parent\"><img src=\"https://colab.research.google.com/assets/colab-badge.svg\" alt=\"Open In Colab\"/></a>"
      ]
    },
    {
      "cell_type": "code",
      "metadata": {
        "id": "z-GuO1UmRwNY"
      },
      "source": [
        "import pandas as pd\n",
        "import matplotlib.pyplot as plt\n",
        "\n",
        "from sklearn.model_selection import train_test_split,cross_val_score, KFold\n",
        "\n",
        "from sklearn.linear_model import LogisticRegression\n",
        "from sklearn.discriminant_analysis import LinearDiscriminantAnalysis\n",
        "from sklearn.naive_bayes import GaussianNB\n",
        "from sklearn.neighbors import KNeighborsClassifier\n",
        "from sklearn.svm import SVC\n",
        "from sklearn.neural_network import MLPClassifier\n",
        "\n",
        "from sklearn.metrics import accuracy_score, confusion_matrix, classification_report\n"
      ],
      "execution_count": 5,
      "outputs": []
    },
    {
      "cell_type": "code",
      "metadata": {
        "id": "LlfKE3Ltl_Ke"
      },
      "source": [
        "\n",
        "from pycobra.cobra import Cobra\n",
        "from pycobra.ewa import Ewa\n",
        "from pycobra.diagnostics import Diagnostics\n",
        "from pycobra.visualisation import Visualisation\n",
        "import numpy as np"
      ],
      "execution_count": 3,
      "outputs": []
    },
    {
      "cell_type": "code",
      "metadata": {
        "colab": {
          "base_uri": "https://localhost:8080/"
        },
        "id": "QGzqzIqUtoop",
        "outputId": "42605829-ad7c-49b2-9601-6e10e04b902d"
      },
      "source": [
        "from google.colab import drive\n",
        "drive.mount('/content/drive')"
      ],
      "execution_count": 6,
      "outputs": [
        {
          "output_type": "stream",
          "name": "stdout",
          "text": [
            "Drive already mounted at /content/drive; to attempt to forcibly remount, call drive.mount(\"/content/drive\", force_remount=True).\n"
          ]
        }
      ]
    },
    {
      "cell_type": "code",
      "metadata": {
        "id": "duaq64HSsx3y"
      },
      "source": [
        "path = '/content/drive/MyDrive/Dataset/haberman.csv'\n",
        "names = ['Age', 'Year operation', 'Axillary nodes detected', 'Survival status']\n",
        "dataset =pd.read_csv(path,names = names)"
      ],
      "execution_count": 7,
      "outputs": []
    },
    {
      "cell_type": "markdown",
      "metadata": {
        "id": "kjNxIgi_56C8"
      },
      "source": [
        "# New Section"
      ]
    },
    {
      "cell_type": "code",
      "metadata": {
        "id": "nBdFzzi2sx6w",
        "colab": {
          "base_uri": "https://localhost:8080/",
          "height": 359
        },
        "outputId": "f5b00d33-ae3c-44ba-91d7-4fbcf9ac2029"
      },
      "source": [
        "dataset.head(10)"
      ],
      "execution_count": 8,
      "outputs": [
        {
          "output_type": "execute_result",
          "data": {
            "text/html": [
              "<div>\n",
              "<style scoped>\n",
              "    .dataframe tbody tr th:only-of-type {\n",
              "        vertical-align: middle;\n",
              "    }\n",
              "\n",
              "    .dataframe tbody tr th {\n",
              "        vertical-align: top;\n",
              "    }\n",
              "\n",
              "    .dataframe thead th {\n",
              "        text-align: right;\n",
              "    }\n",
              "</style>\n",
              "<table border=\"1\" class=\"dataframe\">\n",
              "  <thead>\n",
              "    <tr style=\"text-align: right;\">\n",
              "      <th></th>\n",
              "      <th>Age</th>\n",
              "      <th>Year operation</th>\n",
              "      <th>Axillary nodes detected</th>\n",
              "      <th>Survival status</th>\n",
              "    </tr>\n",
              "  </thead>\n",
              "  <tbody>\n",
              "    <tr>\n",
              "      <th>0</th>\n",
              "      <td>30</td>\n",
              "      <td>64</td>\n",
              "      <td>1</td>\n",
              "      <td>1</td>\n",
              "    </tr>\n",
              "    <tr>\n",
              "      <th>1</th>\n",
              "      <td>30</td>\n",
              "      <td>62</td>\n",
              "      <td>3</td>\n",
              "      <td>1</td>\n",
              "    </tr>\n",
              "    <tr>\n",
              "      <th>2</th>\n",
              "      <td>30</td>\n",
              "      <td>65</td>\n",
              "      <td>0</td>\n",
              "      <td>1</td>\n",
              "    </tr>\n",
              "    <tr>\n",
              "      <th>3</th>\n",
              "      <td>31</td>\n",
              "      <td>59</td>\n",
              "      <td>2</td>\n",
              "      <td>1</td>\n",
              "    </tr>\n",
              "    <tr>\n",
              "      <th>4</th>\n",
              "      <td>31</td>\n",
              "      <td>65</td>\n",
              "      <td>4</td>\n",
              "      <td>1</td>\n",
              "    </tr>\n",
              "    <tr>\n",
              "      <th>5</th>\n",
              "      <td>33</td>\n",
              "      <td>58</td>\n",
              "      <td>10</td>\n",
              "      <td>1</td>\n",
              "    </tr>\n",
              "    <tr>\n",
              "      <th>6</th>\n",
              "      <td>33</td>\n",
              "      <td>60</td>\n",
              "      <td>0</td>\n",
              "      <td>1</td>\n",
              "    </tr>\n",
              "    <tr>\n",
              "      <th>7</th>\n",
              "      <td>34</td>\n",
              "      <td>59</td>\n",
              "      <td>0</td>\n",
              "      <td>2</td>\n",
              "    </tr>\n",
              "    <tr>\n",
              "      <th>8</th>\n",
              "      <td>34</td>\n",
              "      <td>66</td>\n",
              "      <td>9</td>\n",
              "      <td>2</td>\n",
              "    </tr>\n",
              "    <tr>\n",
              "      <th>9</th>\n",
              "      <td>34</td>\n",
              "      <td>58</td>\n",
              "      <td>30</td>\n",
              "      <td>1</td>\n",
              "    </tr>\n",
              "  </tbody>\n",
              "</table>\n",
              "</div>"
            ],
            "text/plain": [
              "   Age  Year operation  Axillary nodes detected  Survival status\n",
              "0   30              64                        1                1\n",
              "1   30              62                        3                1\n",
              "2   30              65                        0                1\n",
              "3   31              59                        2                1\n",
              "4   31              65                        4                1\n",
              "5   33              58                       10                1\n",
              "6   33              60                        0                1\n",
              "7   34              59                        0                2\n",
              "8   34              66                        9                2\n",
              "9   34              58                       30                1"
            ]
          },
          "metadata": {},
          "execution_count": 8
        }
      ]
    },
    {
      "cell_type": "code",
      "metadata": {
        "id": "w8UUzdV9sx9o",
        "colab": {
          "base_uri": "https://localhost:8080/",
          "height": 297
        },
        "outputId": "32e3dc91-c673-4501-ce22-c4db0a77fa39"
      },
      "source": [
        "dataset.describe()"
      ],
      "execution_count": 28,
      "outputs": [
        {
          "output_type": "execute_result",
          "data": {
            "text/html": [
              "<div>\n",
              "<style scoped>\n",
              "    .dataframe tbody tr th:only-of-type {\n",
              "        vertical-align: middle;\n",
              "    }\n",
              "\n",
              "    .dataframe tbody tr th {\n",
              "        vertical-align: top;\n",
              "    }\n",
              "\n",
              "    .dataframe thead th {\n",
              "        text-align: right;\n",
              "    }\n",
              "</style>\n",
              "<table border=\"1\" class=\"dataframe\">\n",
              "  <thead>\n",
              "    <tr style=\"text-align: right;\">\n",
              "      <th></th>\n",
              "      <th>Age</th>\n",
              "      <th>Year operation</th>\n",
              "      <th>Axillary nodes detected</th>\n",
              "      <th>Survival status</th>\n",
              "    </tr>\n",
              "  </thead>\n",
              "  <tbody>\n",
              "    <tr>\n",
              "      <th>count</th>\n",
              "      <td>306.000000</td>\n",
              "      <td>306.000000</td>\n",
              "      <td>306.000000</td>\n",
              "      <td>306.000000</td>\n",
              "    </tr>\n",
              "    <tr>\n",
              "      <th>mean</th>\n",
              "      <td>52.457516</td>\n",
              "      <td>62.852941</td>\n",
              "      <td>4.026144</td>\n",
              "      <td>1.264706</td>\n",
              "    </tr>\n",
              "    <tr>\n",
              "      <th>std</th>\n",
              "      <td>10.803452</td>\n",
              "      <td>3.249405</td>\n",
              "      <td>7.189654</td>\n",
              "      <td>0.441899</td>\n",
              "    </tr>\n",
              "    <tr>\n",
              "      <th>min</th>\n",
              "      <td>30.000000</td>\n",
              "      <td>58.000000</td>\n",
              "      <td>0.000000</td>\n",
              "      <td>1.000000</td>\n",
              "    </tr>\n",
              "    <tr>\n",
              "      <th>25%</th>\n",
              "      <td>44.000000</td>\n",
              "      <td>60.000000</td>\n",
              "      <td>0.000000</td>\n",
              "      <td>1.000000</td>\n",
              "    </tr>\n",
              "    <tr>\n",
              "      <th>50%</th>\n",
              "      <td>52.000000</td>\n",
              "      <td>63.000000</td>\n",
              "      <td>1.000000</td>\n",
              "      <td>1.000000</td>\n",
              "    </tr>\n",
              "    <tr>\n",
              "      <th>75%</th>\n",
              "      <td>60.750000</td>\n",
              "      <td>65.750000</td>\n",
              "      <td>4.000000</td>\n",
              "      <td>2.000000</td>\n",
              "    </tr>\n",
              "    <tr>\n",
              "      <th>max</th>\n",
              "      <td>83.000000</td>\n",
              "      <td>69.000000</td>\n",
              "      <td>52.000000</td>\n",
              "      <td>2.000000</td>\n",
              "    </tr>\n",
              "  </tbody>\n",
              "</table>\n",
              "</div>"
            ],
            "text/plain": [
              "              Age  Year operation  Axillary nodes detected  Survival status\n",
              "count  306.000000      306.000000               306.000000       306.000000\n",
              "mean    52.457516       62.852941                 4.026144         1.264706\n",
              "std     10.803452        3.249405                 7.189654         0.441899\n",
              "min     30.000000       58.000000                 0.000000         1.000000\n",
              "25%     44.000000       60.000000                 0.000000         1.000000\n",
              "50%     52.000000       63.000000                 1.000000         1.000000\n",
              "75%     60.750000       65.750000                 4.000000         2.000000\n",
              "max     83.000000       69.000000                52.000000         2.000000"
            ]
          },
          "metadata": {},
          "execution_count": 28
        }
      ]
    },
    {
      "cell_type": "code",
      "metadata": {
        "colab": {
          "base_uri": "https://localhost:8080/",
          "height": 265
        },
        "id": "p-ckVELz7PdO",
        "outputId": "147ab40d-a470-46d0-d77d-6f89d9c35848"
      },
      "source": [
        "dataset.plot()\n",
        "plt.show()"
      ],
      "execution_count": 30,
      "outputs": [
        {
          "output_type": "display_data",
          "data": {
            "image/png": "[encoded data removed]",
            "text/plain": [
              "<Figure size 432x288 with 1 Axes>"
            ]
          },
          "metadata": {
            "needs_background": "light"
          }
        }
      ]
    },
    {
      "cell_type": "code",
      "metadata": {
        "colab": {
          "base_uri": "https://localhost:8080/",
          "height": 281
        },
        "id": "t1eaJ-dt7RDD",
        "outputId": "9bb54abb-1df0-45b5-a2e4-860b863172c4"
      },
      "source": [
        "dataset.hist()\n",
        "plt.show()"
      ],
      "execution_count": 31,
      "outputs": [
        {
          "output_type": "display_data",
          "data": {
            "image/png": "[encoded data removed]",
            "text/plain": [
              "<Figure size 432x288 with 4 Axes>"
            ]
          },
          "metadata": {
            "needs_background": "light"
          }
        }
      ]
    },
    {
      "cell_type": "markdown",
      "metadata": {
        "id": "mFr9lXN28jTs"
      },
      "source": [
        "Training the Model"
      ]
    },
    {
      "cell_type": "code",
      "metadata": {
        "id": "md8a9Vdd7RNj"
      },
      "source": [
        "array = dataset.values\n",
        "X= array[:,:3]\n",
        "Y = array[:,3]\n",
        "validation_size = 0.3\n",
        "seed = 10\n",
        "X_train, X_validation,Y_train,Y_validation = train_test_split(X,Y,test_size = validation_size,random_state = seed)\n"
      ],
      "execution_count": 9,
      "outputs": []
    },
    {
      "cell_type": "code",
      "metadata": {
        "id": "FgYyaMMN7RQs"
      },
      "source": [
        "# Test evaluation and metric\n",
        "num_folds = 20\n",
        "num_instances = len(X_train)\n",
        "seed = 10\n",
        "scoring = 'accuracy'"
      ],
      "execution_count": 10,
      "outputs": []
    },
    {
      "cell_type": "code",
      "metadata": {
        "colab": {
          "base_uri": "https://localhost:8080/"
        },
        "id": "7Y9G8Arn7RTz",
        "outputId": "bffc3e3a-8c4a-4fc9-f42d-0fe9166053b6"
      },
      "source": [
        "algorithms = []\n",
        "algorithms.append(('LR', LogisticRegression()))\n",
        "algorithms.append(('LDA', LinearDiscriminantAnalysis()))\n",
        "algorithms.append(('NB', GaussianNB()))\n",
        "algorithms.append(('NN', MLPClassifier()))\n",
        "algorithms.append(('KNN', KNeighborsClassifier()))\n",
        "algorithms.append(('SVM', SVC()))\n",
        "#evaluate each model in turn\n",
        "results = []\n",
        "names = []\n",
        "for name, algorithm in algorithms:\n",
        "  kfold = KFold(n_splits=20, random_state=10,shuffle=True) \n",
        "  cv_results = cross_val_score(algorithm, X_train, Y_train, cv=kfold, scoring='accuracy')\n",
        "  results.append(cv_results)\n",
        "  names.append(name)\n",
        "  msg = \"%s: %f (%f)\" % (name, cv_results.mean(), cv_results.std())\n",
        "  print(msg)"
      ],
      "execution_count": 12,
      "outputs": [
        {
          "output_type": "stream",
          "name": "stdout",
          "text": [
            "LR: 0.740909 (0.119417)\n",
            "LDA: 0.740909 (0.119417)\n",
            "NB: 0.745000 (0.126800)\n",
            "NN: 0.735455 (0.129682)\n",
            "KNN: 0.722273 (0.141260)\n",
            "SVM: 0.717273 (0.116097)\n"
          ]
        }
      ]
    },
    {
      "cell_type": "code",
      "metadata": {
        "colab": {
          "base_uri": "https://localhost:8080/"
        },
        "id": "VBJY_qUX7RWS",
        "outputId": "52487343-3322-4b7c-aacc-613a3025e51b"
      },
      "source": [
        "for name,algorithm in algorithms:\n",
        "  model = algorithm\n",
        "  model.fit(X_train,Y_train)\n",
        "  predictions = model.predict(X_validation)\n",
        "  print(name)\n",
        "  print(accuracy_score(Y_validation, predictions))\n",
        "  print(confusion_matrix(Y_validation, predictions))\n",
        "  print(classification_report(Y_validation, predictions))\n"
      ],
      "execution_count": 15,
      "outputs": [
        {
          "output_type": "stream",
          "name": "stdout",
          "text": [
            "LR\n",
            "0.782608695652174\n",
            "[[67  5]\n",
            " [15  5]]\n",
            "              precision    recall  f1-score   support\n",
            "\n",
            "           1       0.82      0.93      0.87        72\n",
            "           2       0.50      0.25      0.33        20\n",
            "\n",
            "    accuracy                           0.78        92\n",
            "   macro avg       0.66      0.59      0.60        92\n",
            "weighted avg       0.75      0.78      0.75        92\n",
            "\n",
            "LDA\n",
            "0.782608695652174\n",
            "[[67  5]\n",
            " [15  5]]\n",
            "              precision    recall  f1-score   support\n",
            "\n",
            "           1       0.82      0.93      0.87        72\n",
            "           2       0.50      0.25      0.33        20\n",
            "\n",
            "    accuracy                           0.78        92\n",
            "   macro avg       0.66      0.59      0.60        92\n",
            "weighted avg       0.75      0.78      0.75        92\n",
            "\n",
            "NB\n",
            "0.782608695652174\n",
            "[[66  6]\n",
            " [14  6]]\n",
            "              precision    recall  f1-score   support\n",
            "\n",
            "           1       0.82      0.92      0.87        72\n",
            "           2       0.50      0.30      0.37        20\n",
            "\n",
            "    accuracy                           0.78        92\n",
            "   macro avg       0.66      0.61      0.62        92\n",
            "weighted avg       0.75      0.78      0.76        92\n",
            "\n",
            "NN\n",
            "0.782608695652174\n",
            "[[64  8]\n",
            " [12  8]]\n",
            "              precision    recall  f1-score   support\n",
            "\n",
            "           1       0.84      0.89      0.86        72\n",
            "           2       0.50      0.40      0.44        20\n",
            "\n",
            "    accuracy                           0.78        92\n",
            "   macro avg       0.67      0.64      0.65        92\n",
            "weighted avg       0.77      0.78      0.77        92\n",
            "\n",
            "KNN\n",
            "0.7391304347826086\n",
            "[[63  9]\n",
            " [15  5]]\n",
            "              precision    recall  f1-score   support\n",
            "\n",
            "           1       0.81      0.88      0.84        72\n",
            "           2       0.36      0.25      0.29        20\n",
            "\n",
            "    accuracy                           0.74        92\n",
            "   macro avg       0.58      0.56      0.57        92\n",
            "weighted avg       0.71      0.74      0.72        92\n",
            "\n",
            "SVM\n",
            "0.7608695652173914\n",
            "[[68  4]\n",
            " [18  2]]\n",
            "              precision    recall  f1-score   support\n",
            "\n",
            "           1       0.79      0.94      0.86        72\n",
            "           2       0.33      0.10      0.15        20\n",
            "\n",
            "    accuracy                           0.76        92\n",
            "   macro avg       0.56      0.52      0.51        92\n",
            "weighted avg       0.69      0.76      0.71        92\n",
            "\n"
          ]
        }
      ]
    },
    {
      "cell_type": "markdown",
      "metadata": {
        "id": "n6HfAXACmrD9"
      },
      "source": [
        "Pycobra"
      ]
    },
    {
      "cell_type": "code",
      "metadata": {
        "colab": {
          "base_uri": "https://localhost:8080/",
          "height": 231
        },
        "id": "8I1w-2Uf7Rbi",
        "outputId": "1faa1198-3463-4db2-da9a-6470adbbf659"
      },
      "source": [
        "array = dataset.values\n",
        "X= array[:,:3]\n",
        "Y = array[:,3]\n",
        "validation_size = 0.3\n",
        "seed = 10\n",
        "X_train, X_validation,Y_train,Y_validation = train_test_split(X,Y,test_size = validation_size,random_state = seed)\n",
        "X_eps = array[1:2]\n",
        "Y_eps = array[1:2]"
      ],
      "execution_count": 6,
      "outputs": [
        {
          "output_type": "error",
          "ename": "NameError",
          "evalue": "ignored",
          "traceback": [
            "\u001b[0;31m---------------------------------------------------------------------------\u001b[0m",
            "\u001b[0;31mNameError\u001b[0m                                 Traceback (most recent call last)",
            "\u001b[0;32m<ipython-input-6-79c80b2f2135>\u001b[0m in \u001b[0;36m<module>\u001b[0;34m()\u001b[0m\n\u001b[0;32m----> 1\u001b[0;31m \u001b[0marray\u001b[0m \u001b[0;34m=\u001b[0m \u001b[0mdataset\u001b[0m\u001b[0;34m.\u001b[0m\u001b[0mvalues\u001b[0m\u001b[0;34m\u001b[0m\u001b[0;34m\u001b[0m\u001b[0m\n\u001b[0m\u001b[1;32m      2\u001b[0m \u001b[0mX\u001b[0m\u001b[0;34m=\u001b[0m \u001b[0marray\u001b[0m\u001b[0;34m[\u001b[0m\u001b[0;34m:\u001b[0m\u001b[0;34m,\u001b[0m\u001b[0;34m:\u001b[0m\u001b[0;36m3\u001b[0m\u001b[0;34m]\u001b[0m\u001b[0;34m\u001b[0m\u001b[0;34m\u001b[0m\u001b[0m\n\u001b[1;32m      3\u001b[0m \u001b[0mY\u001b[0m \u001b[0;34m=\u001b[0m \u001b[0marray\u001b[0m\u001b[0;34m[\u001b[0m\u001b[0;34m:\u001b[0m\u001b[0;34m,\u001b[0m\u001b[0;36m3\u001b[0m\u001b[0;34m]\u001b[0m\u001b[0;34m\u001b[0m\u001b[0;34m\u001b[0m\u001b[0m\n\u001b[1;32m      4\u001b[0m \u001b[0mvalidation_size\u001b[0m \u001b[0;34m=\u001b[0m \u001b[0;36m0.3\u001b[0m\u001b[0;34m\u001b[0m\u001b[0;34m\u001b[0m\u001b[0m\n\u001b[1;32m      5\u001b[0m \u001b[0mseed\u001b[0m \u001b[0;34m=\u001b[0m \u001b[0;36m10\u001b[0m\u001b[0;34m\u001b[0m\u001b[0;34m\u001b[0m\u001b[0m\n",
            "\u001b[0;31mNameError\u001b[0m: name 'dataset' is not defined"
          ]
        }
      ]
    },
    {
      "cell_type": "code",
      "metadata": {
        "colab": {
          "base_uri": "https://localhost:8080/",
          "height": 197
        },
        "id": "vfIw7IH0P8Cp",
        "outputId": "32438b6a-0c38-414f-b8af-a0d5f600981b"
      },
      "source": [
        "COBRA_diabetes = Cobra()\n",
        "COBRA_diabetes.set_epsilon(X_epsilon=X_eps, y_epsilon=Y_eps, grid_points=50)\n",
        "COBRA_diabetes.fit(X_train, diabetes_Y_train)"
      ],
      "execution_count": 4,
      "outputs": [
        {
          "output_type": "error",
          "ename": "NameError",
          "evalue": "ignored",
          "traceback": [
            "\u001b[0;31m---------------------------------------------------------------------------\u001b[0m",
            "\u001b[0;31mNameError\u001b[0m                                 Traceback (most recent call last)",
            "\u001b[0;32m<ipython-input-4-30c3df959180>\u001b[0m in \u001b[0;36m<module>\u001b[0;34m()\u001b[0m\n\u001b[1;32m      1\u001b[0m \u001b[0mCOBRA_diabetes\u001b[0m \u001b[0;34m=\u001b[0m \u001b[0mCobra\u001b[0m\u001b[0;34m(\u001b[0m\u001b[0;34m)\u001b[0m\u001b[0;34m\u001b[0m\u001b[0;34m\u001b[0m\u001b[0m\n\u001b[0;32m----> 2\u001b[0;31m \u001b[0mCOBRA_diabetes\u001b[0m\u001b[0;34m.\u001b[0m\u001b[0mset_epsilon\u001b[0m\u001b[0;34m(\u001b[0m\u001b[0mX_epsilon\u001b[0m\u001b[0;34m=\u001b[0m\u001b[0mdiabetes_X_eps\u001b[0m\u001b[0;34m,\u001b[0m \u001b[0my_epsilon\u001b[0m\u001b[0;34m=\u001b[0m\u001b[0mdiabetes_y_eps\u001b[0m\u001b[0;34m,\u001b[0m \u001b[0mgrid_points\u001b[0m\u001b[0;34m=\u001b[0m\u001b[0;36m50\u001b[0m\u001b[0;34m)\u001b[0m\u001b[0;34m\u001b[0m\u001b[0;34m\u001b[0m\u001b[0m\n\u001b[0m\u001b[1;32m      3\u001b[0m \u001b[0mCOBRA_diabetes\u001b[0m\u001b[0;34m.\u001b[0m\u001b[0mfit\u001b[0m\u001b[0;34m(\u001b[0m\u001b[0mdiabetes_X_train\u001b[0m\u001b[0;34m,\u001b[0m \u001b[0mdiabetes_y_train\u001b[0m\u001b[0;34m)\u001b[0m\u001b[0;34m\u001b[0m\u001b[0;34m\u001b[0m\u001b[0m\n",
            "\u001b[0;31mNameError\u001b[0m: name 'diabetes_X_eps' is not defined"
          ]
        }
      ]
    },
    {
      "cell_type": "code",
      "metadata": {
        "id": "6V2i0Xy7P8no"
      },
      "source": [
        ""
      ],
      "execution_count": null,
      "outputs": []
    }
  ]
}